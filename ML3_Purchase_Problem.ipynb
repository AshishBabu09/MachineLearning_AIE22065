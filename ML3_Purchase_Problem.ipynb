{
  "nbformat": 4,
  "nbformat_minor": 0,
  "metadata": {
    "colab": {
      "provenance": []
    },
    "kernelspec": {
      "name": "python3",
      "display_name": "Python 3"
    },
    "language_info": {
      "name": "python"
    }
  },
  "cells": [
    {
      "cell_type": "code",
      "execution_count": null,
      "metadata": {
        "colab": {
          "base_uri": "https://localhost:8080/"
        },
        "id": "tpvDRzGpC5us",
        "outputId": "14024f1e-2c08-495b-c3dd-5f619b24f82d"
      },
      "outputs": [
        {
          "output_type": "stream",
          "name": "stdout",
          "text": [
            "Dimensionality of the vector space: 3\n",
            "Number of vectors in the vector space: 10\n",
            "Rank of Matrix A: 3\n",
            "Cost of each product available for sale:\n",
            "[[ 1.]\n",
            " [55.]\n",
            " [18.]]\n"
          ]
        }
      ],
      "source": [
        "import pandas as pd\n",
        "import numpy as np\n",
        "\n",
        "file_path = \"/Lab Session1 Data.xlsx\"\n",
        "purchase_data = pd.read_excel(file_path, sheet_name=\"Purchase data\")\n",
        "\n",
        "A = purchase_data.iloc[:,1 :4]\n",
        "C = purchase_data.iloc[:,4 :5]\n",
        "\n",
        "dimensionality = A.shape[1]\n",
        "\n",
        "num_vectors = A.shape[0]\n",
        "\n",
        "rank_A = np.linalg.matrix_rank(A)\n",
        "\n",
        "pseudo_inverse_A = np.linalg.pinv(A)\n",
        "cost_per_product = np.dot(pseudo_inverse_A, C)\n",
        "\n",
        "# Print results\n",
        "print(\"Dimensionality of the vector space:\", dimensionality)\n",
        "print(\"Number of vectors in the vector space:\", num_vectors)\n",
        "print(\"Rank of Matrix A:\", rank_A)\n",
        "print(\"Cost of each product available for sale:\")\n",
        "print(cost_per_product)"
      ]
    }
  ]
}